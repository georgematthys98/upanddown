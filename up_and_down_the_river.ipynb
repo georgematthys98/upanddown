{
 "cells": [
  {
   "cell_type": "code",
   "execution_count": 257,
   "id": "45d2388f",
   "metadata": {},
   "outputs": [],
   "source": [
    "class Card:\n",
    "    def __init__(self, suit, value):\n",
    "        self.suit = suit\n",
    "        self.value = value\n",
    "\n",
    "    def display(self):\n",
    "        if self.value in [11, 12, 13, 14]:\n",
    "            display_value = {14: \"Ace\", 11: \"Jack\", 12: \"Queen\", 13: \"King\"}[self.value]\n",
    "            print(f\"{display_value} of {self.suit}\")\n",
    "        else:\n",
    "            print(f\"{self.value} of {self.suit}\")"
   ]
  },
  {
   "cell_type": "code",
   "execution_count": 258,
   "id": "dfc09ef3",
   "metadata": {},
   "outputs": [],
   "source": [
    "import random"
   ]
  },
  {
   "cell_type": "code",
   "execution_count": 259,
   "id": "61a42857",
   "metadata": {},
   "outputs": [],
   "source": [
    "suits = ['Hearts', 'Spades', 'Diamonds', 'Clubs']\n",
    "values = list(range(2, 15))"
   ]
  },
  {
   "cell_type": "code",
   "execution_count": 260,
   "id": "3ad598c3",
   "metadata": {},
   "outputs": [],
   "source": [
    "class Deck:\n",
    "    def __init__(self):\n",
    "        self.cards = [Card(suit, value) for suit in suits for value in values]\n",
    "\n",
    "    def shuffle(self):\n",
    "        random.shuffle(self.cards)\n",
    "\n",
    "    def draw(self):\n",
    "        if len(self.cards) == 0:\n",
    "            print(\"You cannot draw from an empty deck\")\n",
    "        else:\n",
    "            draw_card = self.cards[0]\n",
    "            self.cards = self.cards[1:]\n",
    "            return draw_card\n",
    "\n",
    "    def display(self):\n",
    "        for card in self.cards:\n",
    "            card.display()"
   ]
  },
  {
   "cell_type": "code",
   "execution_count": 261,
   "id": "3435dcad",
   "metadata": {},
   "outputs": [],
   "source": [
    "class Player:\n",
    "    def __init__(self, name):\n",
    "        self.hand = []\n",
    "        self.score = 0\n",
    "        self.name = name\n",
    "\n",
    "    def draw(self, card):\n",
    "        self.hand.append(card)\n",
    "\n",
    "    def display_hand(self):\n",
    "        if len(self.hand) == 0:\n",
    "            print(f\"{self.name} has no cards\")\n",
    "        else:\n",
    "            print(f\"{self.name} has {len(self.hand)} cards:\")\n",
    "            for card in self.hand:\n",
    "                card.display()\n",
    "\n",
    "    def reset_hand(self):\n",
    "        self.hand = []\n",
    "        \n",
    "    def predict(self, allowed):\n",
    "        print(f\"Possible guesses are {', '.join([str(x) for x in allowed])}\")\n",
    "        prediction = int(input(\"Enter your guess: \"))\n",
    "        \n",
    "        while prediction not in allowed:\n",
    "            prediction = int(input(\"Enter an allowed prediction: \"))\n",
    "        \n",
    "        self.prediction = prediction\n",
    "        print(f\"{self.name} has made the prediction of {self.prediction}\")\n",
    "        return self.prediction\n",
    "\n",
    "class Board:\n",
    "    def __init__(self, players):\n",
    "        self.deck = Deck()\n",
    "        self.players = [Player(name) for name in players]\n",
    "        self.table = []\n",
    "        self.trump_card = None\n",
    "        self.trump_suit = None\n",
    "\n",
    "    def deal(self, cards):\n",
    "        self.deck.shuffle()\n",
    "        for _ in range(cards):\n",
    "            for player in self.players:\n",
    "                player.draw(self.deck.draw())\n",
    "        \n",
    "        self.trump_card = self.deck.draw()\n",
    "        self.trump_suit = self.trump_card.suit\n",
    "\n",
    "    def deal_to_table(self):\n",
    "        card = self.deck.draw()\n",
    "        self.table.insert(0, card)\n",
    "\n",
    "    def reset(self):\n",
    "        self.deck = Deck()\n",
    "        for player in self.players:\n",
    "            player.reset_hand()\n",
    "            \n",
    "    def rotate_players(self):\n",
    "        self.players = self.players[1:] + self.players[:1]\n",
    "    \n",
    "    def get_predictions(self, n):\n",
    "        predictions = []\n",
    "        for i, player in enumerate(self.players):\n",
    "            if i != len(self.players) - 1:\n",
    "                allowed_predictions = list(range(0, n+1))\n",
    "            else:\n",
    "                disallowed_predict = n - sum(predictions)\n",
    "                allowed_predictions = [p for p in range(0, n+1) if p != disallowed_predict]\n",
    "            predictions.append(player.predict(allowed_predictions))\n"
   ]
  },
  {
   "cell_type": "code",
   "execution_count": 262,
   "id": "9fda90e3",
   "metadata": {},
   "outputs": [],
   "source": [
    "board = Board(['Player1', 'Player2'])"
   ]
  },
  {
   "cell_type": "code",
   "execution_count": 263,
   "id": "b6200675",
   "metadata": {},
   "outputs": [],
   "source": [
    "board.reset()\n",
    "board.deal(7)"
   ]
  },
  {
   "cell_type": "code",
   "execution_count": 264,
   "id": "93a688ef",
   "metadata": {},
   "outputs": [
    {
     "name": "stdout",
     "output_type": "stream",
     "text": [
      "7 of Clubs\n",
      "Clubs\n"
     ]
    }
   ],
   "source": [
    "board.trump_card.display()\n",
    "print(board.trump_suit)"
   ]
  },
  {
   "cell_type": "code",
   "execution_count": 265,
   "id": "90b9c5a4",
   "metadata": {},
   "outputs": [
    {
     "name": "stdout",
     "output_type": "stream",
     "text": [
      "Possible guesses are 0, 1, 2, 3, 4, 5, 6, 7\n",
      "Enter your guess: 2\n",
      "Player1 has made the prediction of 2\n",
      "Possible guesses are 0, 1, 2, 3, 4, 6, 7\n",
      "Enter your guess: 3\n",
      "Player2 has made the prediction of 3\n"
     ]
    }
   ],
   "source": [
    "board.get_predictions(7)"
   ]
  },
  {
   "cell_type": "code",
   "execution_count": null,
   "id": "a827e8d0",
   "metadata": {},
   "outputs": [],
   "source": []
  }
 ],
 "metadata": {
  "kernelspec": {
   "display_name": "Python 3 (ipykernel)",
   "language": "python",
   "name": "python3"
  },
  "language_info": {
   "codemirror_mode": {
    "name": "ipython",
    "version": 3
   },
   "file_extension": ".py",
   "mimetype": "text/x-python",
   "name": "python",
   "nbconvert_exporter": "python",
   "pygments_lexer": "ipython3",
   "version": "3.9.12"
  }
 },
 "nbformat": 4,
 "nbformat_minor": 5
}
